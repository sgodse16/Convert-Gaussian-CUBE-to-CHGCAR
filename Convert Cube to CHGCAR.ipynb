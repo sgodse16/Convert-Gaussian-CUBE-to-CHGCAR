{
 "cells": [
  {
   "cell_type": "code",
   "execution_count": 106,
   "metadata": {},
   "outputs": [],
   "source": [
    "import numpy as np\n",
    "from ase.io import read, write\n",
    "import os"
   ]
  },
  {
   "cell_type": "code",
   "execution_count": 107,
   "metadata": {},
   "outputs": [],
   "source": [
    "def get_cube_data(cube_file):\n",
    "    with open(cube_file, 'r') as f:\n",
    "            cube_data = f.readlines()\n",
    "\n",
    "    # Number of atoms, origin, FFT grid size and voxel dimensions\n",
    "    natoms = int(cube_data[2].split()[0])\n",
    "    origin = np.array([cube_data[2].split()[1], cube_data[2].split()[2], cube_data[2].split()[3]], dtype='float64')\n",
    "    N = np.array([cube_data[3].split()[0], cube_data[4].split()[0], cube_data[5].split()[0]], dtype='int64')\n",
    "    dV = np.array([[cube_data[3].split()[1], cube_data[3].split()[2], cube_data[3].split()[3]],\n",
    "                [cube_data[4].split()[1], cube_data[4].split()[2], cube_data[4].split()[3]],\n",
    "                [cube_data[5].split()[1], cube_data[5].split()[2], cube_data[5].split()[3]]], dtype='float64')\n",
    "\n",
    "    # Convert from Bohr to Angstroms (uncomment if required)\n",
    "    # dV *= 0.529177249\n",
    "\n",
    "    # Volume of a grid\n",
    "    dvolume =  np.dot(dV[0], np.cross(dV[1], dV[2]))\n",
    "\n",
    "    # Read density data as a numpy array\n",
    "    density_data = np.loadtxt(cube_file, skiprows=6+natoms)\n",
    "\n",
    "    # The way charges are stored in a cube file with innermost loop on z and outermost on x\n",
    "    density_data = density_data.reshape((N[0], N[1], N[2]), order='C')\n",
    "    \n",
    "    # Charge contained in a grid\n",
    "    charge_data = density_data*dvolume\n",
    "    \n",
    "    return charge_data\n",
    "    \n",
    "def write_CHGCAR(structure_file, cube_file, chgcar_file):\n",
    "    \n",
    "    write('temp_POSCAR', read(structure_file), format='vasp')\n",
    "    \n",
    "    charge_data = get_cube_data(cube_file)\n",
    "\n",
    "    Nx, Ny, Nz = charge_data.shape[0], charge_data.shape[1], charge_data.shape[2]\n",
    "    \n",
    "    with open('temp_POSCAR', 'r') as f:\n",
    "        poscar_lines = f.readlines()\n",
    "    \n",
    "    with open(chgcar_file, 'w') as f:\n",
    "        for i in range(len(poscar_lines)):\n",
    "            f.write(poscar_lines[i])\n",
    "            \n",
    "        f.write('\\n')\n",
    "        \n",
    "        f.write(f'   {Nx}   {Ny}   {Nz}')\n",
    "        f.write('\\n')\n",
    "        count = 0\n",
    "\n",
    "        # The way charges are stored in CHGCAR, innermost loop on x, outermost on z\n",
    "        for k in range(Nz):\n",
    "            for j in range(Ny):\n",
    "                for i in range(Nx):\n",
    "                    f.write(f' {charge_data[i, j, k]*Nx*Ny*Nz:.12f}')\n",
    "                    count += 1\n",
    "                    if count % 5 == 0:\n",
    "                        f.write('\\n')\n",
    "    \n",
    "        f.write('\\n')\n",
    "    os.system(\"rm temp_POSCAR\")\n",
    "    return"
   ]
  },
  {
   "cell_type": "code",
   "execution_count": null,
   "metadata": {},
   "outputs": [],
   "source": []
  }
 ],
 "metadata": {
  "kernelspec": {
   "display_name": "Python 3 (ipykernel)",
   "language": "python",
   "name": "python3"
  },
  "language_info": {
   "codemirror_mode": {
    "name": "ipython",
    "version": 3
   },
   "file_extension": ".py",
   "mimetype": "text/x-python",
   "name": "python",
   "nbconvert_exporter": "python",
   "pygments_lexer": "ipython3",
   "version": "3.11.4"
  }
 },
 "nbformat": 4,
 "nbformat_minor": 4
}
